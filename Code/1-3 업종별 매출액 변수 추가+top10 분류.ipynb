{
 "cells": [
  {
   "cell_type": "markdown",
   "id": "9e170719",
   "metadata": {},
   "source": [
    "# 점포"
   ]
  },
  {
   "cell_type": "code",
   "execution_count": 1,
   "id": "228a0cf9",
   "metadata": {},
   "outputs": [],
   "source": [
    "import pandas as pd\n",
    "store = pd.read_csv('서울시_우리마을가게_상권분석서비스(신_상권_추정매출).csv')"
   ]
  },
  {
   "cell_type": "code",
   "execution_count": 2,
   "id": "acaea771",
   "metadata": {},
   "outputs": [
    {
     "data": {
      "text/plain": [
       "Index(['Unnamed: 0', '기준_년_코드', '기준_분기_코드', '상권_구분_코드', '상권_구분_코드_명', '상권_코드',\n",
       "       '상권_코드_명', '서비스_업종_코드', '서비스_업종_코드_명', '점포_수', '유사_업종_점포_수', '개업_율',\n",
       "       '개업_점포_수', '폐업_률', '폐업_점포_수', '프랜차이즈_점포_수'],\n",
       "      dtype='object')"
      ]
     },
     "execution_count": 2,
     "metadata": {},
     "output_type": "execute_result"
    }
   ],
   "source": [
    "store.columns"
   ]
  },
  {
   "cell_type": "code",
   "execution_count": 3,
   "id": "e01ac292",
   "metadata": {},
   "outputs": [],
   "source": [
    "store.drop(columns='Unnamed: 0', inplace=True)"
   ]
  },
  {
   "cell_type": "markdown",
   "id": "5171d7d2",
   "metadata": {
    "id": "5171d7d2"
   },
   "source": [
    "# 추정매출"
   ]
  },
  {
   "cell_type": "code",
   "execution_count": 4,
   "id": "96d24614",
   "metadata": {
    "id": "96d24614"
   },
   "outputs": [],
   "source": [
    "sales = pd.read_csv('08상권-추정매출.csv')"
   ]
  },
  {
   "cell_type": "code",
   "execution_count": 5,
   "id": "a576e0d9",
   "metadata": {
    "id": "a576e0d9"
   },
   "outputs": [],
   "source": [
    "# 분석에 사용할 기준 칼럼\n",
    "base_columns = ['기준_년_코드', '기준_분기_코드', '상권_구분_코드', '상권_구분_코드_명', '상권_코드', '상권_코드_명', '서비스_업종_코드', '서비스_업종_코드_명']"
   ]
  },
  {
   "cell_type": "code",
   "execution_count": 6,
   "id": "7463b693",
   "metadata": {
    "id": "7463b693",
    "outputId": "7b7a5903-b53a-4073-c6a3-65867d09710b"
   },
   "outputs": [
    {
     "name": "stdout",
     "output_type": "stream",
     "text": [
      "<class 'pandas.core.frame.DataFrame'>\n",
      "RangeIndex: 272612 entries, 0 to 272611\n",
      "Data columns (total 80 columns):\n",
      " #   Column           Non-Null Count   Dtype  \n",
      "---  ------           --------------   -----  \n",
      " 0   기준_년_코드          272612 non-null  int64  \n",
      " 1   기준_분기_코드         272612 non-null  int64  \n",
      " 2   상권_구분_코드         272612 non-null  object \n",
      " 3   상권_구분_코드_명       272612 non-null  object \n",
      " 4   상권_코드            272612 non-null  int64  \n",
      " 5   상권_코드_명          272612 non-null  object \n",
      " 6   서비스_업종_코드        272612 non-null  object \n",
      " 7   서비스_업종_코드_명      272612 non-null  object \n",
      " 8   분기당_매출_금액        272612 non-null  float64\n",
      " 9   분기당_매출_건수        272612 non-null  int64  \n",
      " 10  주중_매출_비율         272612 non-null  int64  \n",
      " 11  주말_매출_비율         272612 non-null  int64  \n",
      " 12  월요일_매출_비율        272612 non-null  int64  \n",
      " 13  화요일_매출_비율        272612 non-null  int64  \n",
      " 14  수요일_매출_비율        272612 non-null  int64  \n",
      " 15  목요일_매출_비율        272612 non-null  int64  \n",
      " 16  금요일_매출_비율        272612 non-null  int64  \n",
      " 17  토요일_매출_비율        272612 non-null  int64  \n",
      " 18  일요일_매출_비율        272612 non-null  int64  \n",
      " 19  시간대_00~06_매출_비율  272612 non-null  int64  \n",
      " 20  시간대_06~11_매출_비율  272612 non-null  int64  \n",
      " 21  시간대_11~14_매출_비율  272612 non-null  int64  \n",
      " 22  시간대_14~17_매출_비율  272612 non-null  int64  \n",
      " 23  시간대_17~21_매출_비율  272612 non-null  int64  \n",
      " 24  시간대_21~24_매출_비율  272612 non-null  int64  \n",
      " 25  남성_매출_비율         272612 non-null  int64  \n",
      " 26  여성_매출_비율         272612 non-null  int64  \n",
      " 27  연령대_10_매출_비율     272612 non-null  int64  \n",
      " 28  연령대_20_매출_비율     272612 non-null  int64  \n",
      " 29  연령대_30_매출_비율     272612 non-null  int64  \n",
      " 30  연령대_40_매출_비율     272612 non-null  int64  \n",
      " 31  연령대_50_매출_비율     272612 non-null  int64  \n",
      " 32  연령대_60_이상_매출_비율  272612 non-null  int64  \n",
      " 33  주중_매출_금액         272612 non-null  float64\n",
      " 34  주말_매출_금액         272612 non-null  float64\n",
      " 35  월요일_매출_금액        272612 non-null  float64\n",
      " 36  화요일_매출_금액        272612 non-null  float64\n",
      " 37  수요일_매출_금액        272612 non-null  float64\n",
      " 38  목요일_매출_금액        272612 non-null  float64\n",
      " 39  금요일_매출_금액        272612 non-null  float64\n",
      " 40  토요일_매출_금액        272612 non-null  float64\n",
      " 41  일요일_매출_금액        272612 non-null  float64\n",
      " 42  시간대_00~06_매출_금액  272612 non-null  float64\n",
      " 43  시간대_06~11_매출_금액  272612 non-null  float64\n",
      " 44  시간대_11~14_매출_금액  272612 non-null  float64\n",
      " 45  시간대_14~17_매출_금액  272612 non-null  float64\n",
      " 46  시간대_17~21_매출_금액  272612 non-null  float64\n",
      " 47  시간대_21~24_매출_금액  272612 non-null  int64  \n",
      " 48  남성_매출_금액         272612 non-null  float64\n",
      " 49  여성_매출_금액         272612 non-null  float64\n",
      " 50  연령대_10_매출_금액     272612 non-null  int64  \n",
      " 51  연령대_20_매출_금액     272612 non-null  int64  \n",
      " 52  연령대_30_매출_금액     272612 non-null  float64\n",
      " 53  연령대_40_매출_금액     272612 non-null  float64\n",
      " 54  연령대_50_매출_금액     272612 non-null  float64\n",
      " 55  연령대_60_이상_매출_금액  272612 non-null  float64\n",
      " 56  주중_매출_건수         272612 non-null  int64  \n",
      " 57  주말_매출_건수         272612 non-null  int64  \n",
      " 58  월요일_매출_건수        272612 non-null  int64  \n",
      " 59  화요일_매출_건수        272612 non-null  int64  \n",
      " 60  수요일_매출_건수        272612 non-null  int64  \n",
      " 61  목요일_매출_건수        272612 non-null  int64  \n",
      " 62  금요일_매출_건수        272612 non-null  int64  \n",
      " 63  토요일_매출_건수        272612 non-null  int64  \n",
      " 64  일요일_매출_건수        272612 non-null  int64  \n",
      " 65  시간대_건수~06_매출_건수  272612 non-null  int64  \n",
      " 66  시간대_건수~11_매출_건수  272612 non-null  int64  \n",
      " 67  시간대_건수~14_매출_건수  272612 non-null  int64  \n",
      " 68  시간대_건수~17_매출_건수  272612 non-null  int64  \n",
      " 69  시간대_건수~21_매출_건수  272612 non-null  int64  \n",
      " 70  시간대_건수~24_매출_건수  272612 non-null  int64  \n",
      " 71  남성_매출_건수         272612 non-null  int64  \n",
      " 72  여성_매출_건수         272612 non-null  int64  \n",
      " 73  연령대_10_매출_건수     272612 non-null  int64  \n",
      " 74  연령대_20_매출_건수     272612 non-null  int64  \n",
      " 75  연령대_30_매출_건수     272612 non-null  int64  \n",
      " 76  연령대_40_매출_건수     272612 non-null  int64  \n",
      " 77  연령대_50_매출_건수     272612 non-null  int64  \n",
      " 78  연령대_60_이상_매출_건수  272612 non-null  int64  \n",
      " 79  점포수              272612 non-null  int64  \n",
      "dtypes: float64(21), int64(54), object(5)\n",
      "memory usage: 166.4+ MB\n"
     ]
    }
   ],
   "source": [
    "# sales 데이터프레임의 정보를 출력\n",
    "sales.info()"
   ]
  },
  {
   "cell_type": "code",
   "execution_count": 7,
   "id": "c845d786",
   "metadata": {
    "id": "c845d786"
   },
   "outputs": [],
   "source": [
    "# 위에서 만든 store와 sales 데이터프레임을 base_columns을 기준으로 내부 조인하여 data 데이터프레임을 생성\n",
    "data = pd.merge(store, sales, on=base_columns, how='inner')"
   ]
  },
  {
   "cell_type": "code",
   "execution_count": 8,
   "id": "28945907",
   "metadata": {
    "id": "28945907",
    "outputId": "0b489f28-5936-487e-aa78-c8300ddc4bcc"
   },
   "outputs": [
    {
     "name": "stdout",
     "output_type": "stream",
     "text": [
      "<class 'pandas.core.frame.DataFrame'>\n",
      "RangeIndex: 264216 entries, 0 to 264215\n",
      "Data columns (total 87 columns):\n",
      " #   Column           Non-Null Count   Dtype  \n",
      "---  ------           --------------   -----  \n",
      " 0   기준_년_코드          264216 non-null  int64  \n",
      " 1   기준_분기_코드         264216 non-null  int64  \n",
      " 2   상권_구분_코드         264216 non-null  object \n",
      " 3   상권_구분_코드_명       264216 non-null  object \n",
      " 4   상권_코드            264216 non-null  int64  \n",
      " 5   상권_코드_명          264216 non-null  object \n",
      " 6   서비스_업종_코드        264216 non-null  object \n",
      " 7   서비스_업종_코드_명      264216 non-null  object \n",
      " 8   점포_수             264216 non-null  int64  \n",
      " 9   유사_업종_점포_수       264216 non-null  int64  \n",
      " 10  개업_율             264216 non-null  int64  \n",
      " 11  개업_점포_수          264216 non-null  int64  \n",
      " 12  폐업_률             264216 non-null  int64  \n",
      " 13  폐업_점포_수          264216 non-null  int64  \n",
      " 14  프랜차이즈_점포_수       264216 non-null  int64  \n",
      " 15  분기당_매출_금액        264216 non-null  float64\n",
      " 16  분기당_매출_건수        264216 non-null  int64  \n",
      " 17  주중_매출_비율         264216 non-null  int64  \n",
      " 18  주말_매출_비율         264216 non-null  int64  \n",
      " 19  월요일_매출_비율        264216 non-null  int64  \n",
      " 20  화요일_매출_비율        264216 non-null  int64  \n",
      " 21  수요일_매출_비율        264216 non-null  int64  \n",
      " 22  목요일_매출_비율        264216 non-null  int64  \n",
      " 23  금요일_매출_비율        264216 non-null  int64  \n",
      " 24  토요일_매출_비율        264216 non-null  int64  \n",
      " 25  일요일_매출_비율        264216 non-null  int64  \n",
      " 26  시간대_00~06_매출_비율  264216 non-null  int64  \n",
      " 27  시간대_06~11_매출_비율  264216 non-null  int64  \n",
      " 28  시간대_11~14_매출_비율  264216 non-null  int64  \n",
      " 29  시간대_14~17_매출_비율  264216 non-null  int64  \n",
      " 30  시간대_17~21_매출_비율  264216 non-null  int64  \n",
      " 31  시간대_21~24_매출_비율  264216 non-null  int64  \n",
      " 32  남성_매출_비율         264216 non-null  int64  \n",
      " 33  여성_매출_비율         264216 non-null  int64  \n",
      " 34  연령대_10_매출_비율     264216 non-null  int64  \n",
      " 35  연령대_20_매출_비율     264216 non-null  int64  \n",
      " 36  연령대_30_매출_비율     264216 non-null  int64  \n",
      " 37  연령대_40_매출_비율     264216 non-null  int64  \n",
      " 38  연령대_50_매출_비율     264216 non-null  int64  \n",
      " 39  연령대_60_이상_매출_비율  264216 non-null  int64  \n",
      " 40  주중_매출_금액         264216 non-null  float64\n",
      " 41  주말_매출_금액         264216 non-null  float64\n",
      " 42  월요일_매출_금액        264216 non-null  float64\n",
      " 43  화요일_매출_금액        264216 non-null  float64\n",
      " 44  수요일_매출_금액        264216 non-null  float64\n",
      " 45  목요일_매출_금액        264216 non-null  float64\n",
      " 46  금요일_매출_금액        264216 non-null  float64\n",
      " 47  토요일_매출_금액        264216 non-null  float64\n",
      " 48  일요일_매출_금액        264216 non-null  float64\n",
      " 49  시간대_00~06_매출_금액  264216 non-null  float64\n",
      " 50  시간대_06~11_매출_금액  264216 non-null  float64\n",
      " 51  시간대_11~14_매출_금액  264216 non-null  float64\n",
      " 52  시간대_14~17_매출_금액  264216 non-null  float64\n",
      " 53  시간대_17~21_매출_금액  264216 non-null  float64\n",
      " 54  시간대_21~24_매출_금액  264216 non-null  int64  \n",
      " 55  남성_매출_금액         264216 non-null  float64\n",
      " 56  여성_매출_금액         264216 non-null  float64\n",
      " 57  연령대_10_매출_금액     264216 non-null  int64  \n",
      " 58  연령대_20_매출_금액     264216 non-null  int64  \n",
      " 59  연령대_30_매출_금액     264216 non-null  float64\n",
      " 60  연령대_40_매출_금액     264216 non-null  float64\n",
      " 61  연령대_50_매출_금액     264216 non-null  float64\n",
      " 62  연령대_60_이상_매출_금액  264216 non-null  float64\n",
      " 63  주중_매출_건수         264216 non-null  int64  \n",
      " 64  주말_매출_건수         264216 non-null  int64  \n",
      " 65  월요일_매출_건수        264216 non-null  int64  \n",
      " 66  화요일_매출_건수        264216 non-null  int64  \n",
      " 67  수요일_매출_건수        264216 non-null  int64  \n",
      " 68  목요일_매출_건수        264216 non-null  int64  \n",
      " 69  금요일_매출_건수        264216 non-null  int64  \n",
      " 70  토요일_매출_건수        264216 non-null  int64  \n",
      " 71  일요일_매출_건수        264216 non-null  int64  \n",
      " 72  시간대_건수~06_매출_건수  264216 non-null  int64  \n",
      " 73  시간대_건수~11_매출_건수  264216 non-null  int64  \n",
      " 74  시간대_건수~14_매출_건수  264216 non-null  int64  \n",
      " 75  시간대_건수~17_매출_건수  264216 non-null  int64  \n",
      " 76  시간대_건수~21_매출_건수  264216 non-null  int64  \n",
      " 77  시간대_건수~24_매출_건수  264216 non-null  int64  \n",
      " 78  남성_매출_건수         264216 non-null  int64  \n",
      " 79  여성_매출_건수         264216 non-null  int64  \n",
      " 80  연령대_10_매출_건수     264216 non-null  int64  \n",
      " 81  연령대_20_매출_건수     264216 non-null  int64  \n",
      " 82  연령대_30_매출_건수     264216 non-null  int64  \n",
      " 83  연령대_40_매출_건수     264216 non-null  int64  \n",
      " 84  연령대_50_매출_건수     264216 non-null  int64  \n",
      " 85  연령대_60_이상_매출_건수  264216 non-null  int64  \n",
      " 86  점포수              264216 non-null  int64  \n",
      "dtypes: float64(21), int64(61), object(5)\n",
      "memory usage: 175.4+ MB\n"
     ]
    }
   ],
   "source": [
    "# data 데이터 프레임의 정보 출력\n",
    "data.info()"
   ]
  },
  {
   "cell_type": "markdown",
   "id": "0f4f6b74",
   "metadata": {
    "id": "0f4f6b74"
   },
   "source": [
    "# 업종별 columns 정리"
   ]
  },
  {
   "cell_type": "code",
   "execution_count": 9,
   "id": "70075619",
   "metadata": {
    "id": "70075619"
   },
   "outputs": [],
   "source": [
    "# 각 카테고리별 업종 리스트를 정의\n",
    "음식점 = ['한식음식점', '중식음식점', '일식음식점', '양식음식점']\n",
    "주점업 = ['제과점', '패스트푸드점','치킨전문점', '분식전문점']\n",
    "음료 = ['호프-간이주점', '커피음료','커피-음료']\n",
    "식료품점 = ['슈퍼마켓', '편의점', '미곡판매', '육류판매', '수산물판매', '청과상', '반찬가게']\n",
    "의류_및_미용 = ['일반의류', '한복점', '유아의류', '신발', '가방', '안경', '시계및귀금속','화장품', '미용재료']\n",
    "소매업_기타 = ['컴퓨터 및 주변장치판매','컴퓨터및주변장치판매', '핸드폰', '서적', '문구', '운동/경기용품', '자전거 및 기타운송장비', '완구', '섬유제품', '화초', '애완동물', '중고가구', '가구', '가전제품', '철물점', '악기', '인테리어', '조명용품', '주유소', '전자상거래업', '예술품']\n",
    "자동차_및_부품판매업 = ['중고차판매', '자동차부품', '모터사이클 및 부품','모터사이클및부품']\n",
    "도매_및_상품중개업 = ['주류도매', '재생용품판매점','재생용품 판매점']\n",
    "교육_서비스업 = ['일반교습학원', '외국어학원', '예술학원', '컴퓨터학원', '스포츠강습','스포츠 강습']\n",
    "보건업 = ['일반의원', '치과의원', '한의원',  '의약품', '의료기기']\n",
    "기타_전문_과학_및_기술_서비스업 = ['동물병원']\n",
    "전문_서비스업= ['변호사사무소', '변리사사무소', '법무사사무소', '기타법무서비스', '회계사사무소', '세무사사무소']\n",
    "스포츠_및_오락관련_서비스업 = ['당구장', '골프연습장', '볼링장', 'PC방', '전자게임장', '기타오락장', '복권방', '스포츠클럽', '노래방']\n",
    "개인_및_소비용품_수리업 = ['통신기기수리','자동차수리', '자동차미용', '모터사이클수리', '가전제품수리']\n",
    "기타_개인_서비스업 = ['미용실', '네일숍', '피부관리실', '세탁소']\n",
    "부동산업 = ['부동산중개업']\n",
    "숙박업 = ['여관', '게스트하우스', '고시원']\n",
    "창작예술_및_여가관련_서비스업  = ['독서실']\n",
    "영상_오디오_기록물_제작_및_배급업 = ['DVD방', '녹음실']\n",
    "기타_전문_과학_및_기술_서비스업 = ['사진관', '통번역서비스']\n",
    "사업시설관리_및_조경_서비스업 = ['건축물청소']\n",
    "사업_지원_서비스업 = ['여행사']\n",
    "임대업_부동산_제외 = ['비디오/서적임대', '의류임대', '가정용품임대']"
   ]
  },
  {
   "cell_type": "code",
   "execution_count": 10,
   "id": "4fbff407",
   "metadata": {
    "id": "4fbff407"
   },
   "outputs": [],
   "source": [
    "# 기존 데이터프레임에 새로운 카테고리 열 추가\n",
    "def categorize_service(row):\n",
    "    if row['서비스_업종_코드_명'] in 음식점:\n",
    "        return '음식점'\n",
    "    elif row['서비스_업종_코드_명'] in 주점업:\n",
    "        return '주점업'\n",
    "    elif row['서비스_업종_코드_명'] in 음료:\n",
    "        return '음료'\n",
    "    elif row['서비스_업종_코드_명'] in 식료품점:\n",
    "        return '식료품'\n",
    "    elif row['서비스_업종_코드_명'] in 의류_및_미용:\n",
    "        return '의류_미용'\n",
    "    elif row['서비스_업종_코드_명'] in 소매업_기타:\n",
    "        return '소매업'\n",
    "    elif row['서비스_업종_코드_명'] in 자동차_및_부품판매업:\n",
    "        return '소매_자동차_및_부품'\n",
    "    elif row['서비스_업종_코드_명'] in 도매_및_상품중개업:\n",
    "        return '도매_및_상품중개'\n",
    "    elif row['서비스_업종_코드_명'] in 교육_서비스업:\n",
    "        return '교육'\n",
    "    elif row['서비스_업종_코드_명'] in 보건업:\n",
    "        return '보건'\n",
    "    elif row['서비스_업종_코드_명'] in 기타_전문_과학_및_기술_서비스업:\n",
    "        return '전문_과학_기술'\n",
    "    elif row['서비스_업종_코드_명'] in 전문_서비스업:\n",
    "        return '전문_서비스'\n",
    "    elif row['서비스_업종_코드_명'] in 스포츠_및_오락관련_서비스업:\n",
    "        return '스포츠_및_오락관련_서비스업'\n",
    "    elif row['서비스_업종_코드_명'] in 개인_및_소비용품_수리업:\n",
    "        return '개인_소비용품_수리'\n",
    "    elif row['서비스_업종_코드_명'] in 기타_개인_서비스업:\n",
    "        return '기타_개인_서비스'\n",
    "    elif row['서비스_업종_코드_명'] in 부동산업:\n",
    "        return '부동산'\n",
    "    elif row['서비스_업종_코드_명'] in 숙박업:\n",
    "        return '숙박'\n",
    "    elif row['서비스_업종_코드_명'] in 창작예술_및_여가관련_서비스업:\n",
    "        return '창작예술_여가'\n",
    "    elif row['서비스_업종_코드_명'] in 영상_오디오_기록물_제작_및_배급업:\n",
    "        return '영상_오디오_기록물_제작_배급'\n",
    "    elif row['서비스_업종_코드_명'] in 사업시설관리_및_조경_서비스업:\n",
    "        return '사업시설관리_조경'\n",
    "    elif row['서비스_업종_코드_명'] in 사업_지원_서비스업:\n",
    "        return '사업_지원'\n",
    "    elif row['서비스_업종_코드_명'] in 임대업_부동산_제외:\n",
    "        return '임대업_부동산_제외'\n",
    "    else:\n",
    "        return 'other'  # 추가적인 카테고리를 원할 경우\n",
    "\n",
    "# 기존 데이터프레임에 새로운 카테고리 열 추가\n",
    "data['category20'] = data.apply(categorize_service, axis=1)"
   ]
  },
  {
   "cell_type": "code",
   "execution_count": 11,
   "id": "7b6d1c41",
   "metadata": {
    "id": "7b6d1c41",
    "outputId": "930fae3c-97ed-431c-d15c-f4e293f5889f"
   },
   "outputs": [
    {
     "name": "stdout",
     "output_type": "stream",
     "text": [
      "['음식점' '주점업' '음료' '교육' '스포츠_및_오락관련_서비스업' '기타_개인_서비스' '숙박' '식료품' '의류_미용'\n",
      " '소매업' '보건' '개인_소비용품_수리' '사업_지원' '전문_과학_기술' '창작예술_여가' '부동산' '전문_서비스'\n",
      " '소매_자동차_및_부품' '임대업_부동산_제외' '사업시설관리_조경']\n"
     ]
    }
   ],
   "source": [
    "# 결과 확인\n",
    "print(data['category20'].unique())"
   ]
  },
  {
   "cell_type": "code",
   "execution_count": 12,
   "id": "3714a150",
   "metadata": {
    "id": "3714a150",
    "outputId": "121f12ac-2373-481f-92c6-bc964cd42036",
    "scrolled": false
   },
   "outputs": [
    {
     "data": {
      "text/plain": [
       "category20\n",
       "소매업                43168\n",
       "식료품                31577\n",
       "의류_미용              25122\n",
       "주점업                23687\n",
       "음식점                23153\n",
       "보건                 22919\n",
       "기타_개인_서비스          20570\n",
       "스포츠_및_오락관련_서비스업    19224\n",
       "교육                 17954\n",
       "음료                 15530\n",
       "개인_소비용품_수리          8259\n",
       "숙박                  4017\n",
       "전문_과학_기술            3081\n",
       "창작예술_여가             1982\n",
       "전문_서비스              1178\n",
       "사업_지원                937\n",
       "소매_자동차_및_부품          909\n",
       "부동산                  859\n",
       "임대업_부동산_제외            72\n",
       "사업시설관리_조경             18\n",
       "Name: count, dtype: int64"
      ]
     },
     "execution_count": 12,
     "metadata": {},
     "output_type": "execute_result"
    }
   ],
   "source": [
    "# data 데이터프레임의 'category20' 컬럼의 각 카테고리 값별 빈도수를 계산\n",
    "top = data['category20'].value_counts()\n",
    "top"
   ]
  },
  {
   "cell_type": "code",
   "execution_count": 13,
   "id": "c5749269",
   "metadata": {
    "id": "c5749269"
   },
   "outputs": [],
   "source": [
    "# top 변수에서 가장 빈도수가 높은 상위 10개의 값(index)을 추출\n",
    "top10 = top.head(10).index"
   ]
  },
  {
   "cell_type": "code",
   "execution_count": 14,
   "id": "3a03ddc8",
   "metadata": {
    "id": "3a03ddc8",
    "outputId": "37ec25ac-508f-42cf-8c7d-a42ef4d38482"
   },
   "outputs": [
    {
     "data": {
      "text/plain": [
       "array([], dtype=object)"
      ]
     },
     "execution_count": 14,
     "metadata": {},
     "output_type": "execute_result"
    }
   ],
   "source": [
    "# 'category20' 컬럼 값이 'other'인 행들에서 '서비스_업종_코드_명' 컬럼의 고유한 값들을 추출\n",
    "data[data['category20']=='other']['서비스_업종_코드_명'].unique()"
   ]
  },
  {
   "cell_type": "markdown",
   "id": "e9814073",
   "metadata": {
    "id": "e9814073"
   },
   "source": [
    "# 업종별 매출액 계산"
   ]
  },
  {
   "cell_type": "code",
   "execution_count": 15,
   "id": "9d119297",
   "metadata": {
    "id": "9d119297",
    "outputId": "c50420aa-0ad5-4bc9-cccf-d30992d05042"
   },
   "outputs": [
    {
     "name": "stdout",
     "output_type": "stream",
     "text": [
      "<class 'pandas.core.frame.DataFrame'>\n",
      "RangeIndex: 264216 entries, 0 to 264215\n",
      "Data columns (total 88 columns):\n",
      " #   Column           Non-Null Count   Dtype  \n",
      "---  ------           --------------   -----  \n",
      " 0   기준_년_코드          264216 non-null  int64  \n",
      " 1   기준_분기_코드         264216 non-null  int64  \n",
      " 2   상권_구분_코드         264216 non-null  object \n",
      " 3   상권_구분_코드_명       264216 non-null  object \n",
      " 4   상권_코드            264216 non-null  int64  \n",
      " 5   상권_코드_명          264216 non-null  object \n",
      " 6   서비스_업종_코드        264216 non-null  object \n",
      " 7   서비스_업종_코드_명      264216 non-null  object \n",
      " 8   점포_수             264216 non-null  int64  \n",
      " 9   유사_업종_점포_수       264216 non-null  int64  \n",
      " 10  개업_율             264216 non-null  int64  \n",
      " 11  개업_점포_수          264216 non-null  int64  \n",
      " 12  폐업_률             264216 non-null  int64  \n",
      " 13  폐업_점포_수          264216 non-null  int64  \n",
      " 14  프랜차이즈_점포_수       264216 non-null  int64  \n",
      " 15  분기당_매출_금액        264216 non-null  float64\n",
      " 16  분기당_매출_건수        264216 non-null  int64  \n",
      " 17  주중_매출_비율         264216 non-null  int64  \n",
      " 18  주말_매출_비율         264216 non-null  int64  \n",
      " 19  월요일_매출_비율        264216 non-null  int64  \n",
      " 20  화요일_매출_비율        264216 non-null  int64  \n",
      " 21  수요일_매출_비율        264216 non-null  int64  \n",
      " 22  목요일_매출_비율        264216 non-null  int64  \n",
      " 23  금요일_매출_비율        264216 non-null  int64  \n",
      " 24  토요일_매출_비율        264216 non-null  int64  \n",
      " 25  일요일_매출_비율        264216 non-null  int64  \n",
      " 26  시간대_00~06_매출_비율  264216 non-null  int64  \n",
      " 27  시간대_06~11_매출_비율  264216 non-null  int64  \n",
      " 28  시간대_11~14_매출_비율  264216 non-null  int64  \n",
      " 29  시간대_14~17_매출_비율  264216 non-null  int64  \n",
      " 30  시간대_17~21_매출_비율  264216 non-null  int64  \n",
      " 31  시간대_21~24_매출_비율  264216 non-null  int64  \n",
      " 32  남성_매출_비율         264216 non-null  int64  \n",
      " 33  여성_매출_비율         264216 non-null  int64  \n",
      " 34  연령대_10_매출_비율     264216 non-null  int64  \n",
      " 35  연령대_20_매출_비율     264216 non-null  int64  \n",
      " 36  연령대_30_매출_비율     264216 non-null  int64  \n",
      " 37  연령대_40_매출_비율     264216 non-null  int64  \n",
      " 38  연령대_50_매출_비율     264216 non-null  int64  \n",
      " 39  연령대_60_이상_매출_비율  264216 non-null  int64  \n",
      " 40  주중_매출_금액         264216 non-null  float64\n",
      " 41  주말_매출_금액         264216 non-null  float64\n",
      " 42  월요일_매출_금액        264216 non-null  float64\n",
      " 43  화요일_매출_금액        264216 non-null  float64\n",
      " 44  수요일_매출_금액        264216 non-null  float64\n",
      " 45  목요일_매출_금액        264216 non-null  float64\n",
      " 46  금요일_매출_금액        264216 non-null  float64\n",
      " 47  토요일_매출_금액        264216 non-null  float64\n",
      " 48  일요일_매출_금액        264216 non-null  float64\n",
      " 49  시간대_00~06_매출_금액  264216 non-null  float64\n",
      " 50  시간대_06~11_매출_금액  264216 non-null  float64\n",
      " 51  시간대_11~14_매출_금액  264216 non-null  float64\n",
      " 52  시간대_14~17_매출_금액  264216 non-null  float64\n",
      " 53  시간대_17~21_매출_금액  264216 non-null  float64\n",
      " 54  시간대_21~24_매출_금액  264216 non-null  int64  \n",
      " 55  남성_매출_금액         264216 non-null  float64\n",
      " 56  여성_매출_금액         264216 non-null  float64\n",
      " 57  연령대_10_매출_금액     264216 non-null  int64  \n",
      " 58  연령대_20_매출_금액     264216 non-null  int64  \n",
      " 59  연령대_30_매출_금액     264216 non-null  float64\n",
      " 60  연령대_40_매출_금액     264216 non-null  float64\n",
      " 61  연령대_50_매출_금액     264216 non-null  float64\n",
      " 62  연령대_60_이상_매출_금액  264216 non-null  float64\n",
      " 63  주중_매출_건수         264216 non-null  int64  \n",
      " 64  주말_매출_건수         264216 non-null  int64  \n",
      " 65  월요일_매출_건수        264216 non-null  int64  \n",
      " 66  화요일_매출_건수        264216 non-null  int64  \n",
      " 67  수요일_매출_건수        264216 non-null  int64  \n",
      " 68  목요일_매출_건수        264216 non-null  int64  \n",
      " 69  금요일_매출_건수        264216 non-null  int64  \n",
      " 70  토요일_매출_건수        264216 non-null  int64  \n",
      " 71  일요일_매출_건수        264216 non-null  int64  \n",
      " 72  시간대_건수~06_매출_건수  264216 non-null  int64  \n",
      " 73  시간대_건수~11_매출_건수  264216 non-null  int64  \n",
      " 74  시간대_건수~14_매출_건수  264216 non-null  int64  \n",
      " 75  시간대_건수~17_매출_건수  264216 non-null  int64  \n",
      " 76  시간대_건수~21_매출_건수  264216 non-null  int64  \n",
      " 77  시간대_건수~24_매출_건수  264216 non-null  int64  \n",
      " 78  남성_매출_건수         264216 non-null  int64  \n",
      " 79  여성_매출_건수         264216 non-null  int64  \n",
      " 80  연령대_10_매출_건수     264216 non-null  int64  \n",
      " 81  연령대_20_매출_건수     264216 non-null  int64  \n",
      " 82  연령대_30_매출_건수     264216 non-null  int64  \n",
      " 83  연령대_40_매출_건수     264216 non-null  int64  \n",
      " 84  연령대_50_매출_건수     264216 non-null  int64  \n",
      " 85  연령대_60_이상_매출_건수  264216 non-null  int64  \n",
      " 86  점포수              264216 non-null  int64  \n",
      " 87  category20       264216 non-null  object \n",
      "dtypes: float64(21), int64(61), object(6)\n",
      "memory usage: 177.4+ MB\n"
     ]
    }
   ],
   "source": [
    "# data 데이터 프레임의 정보 출력\n",
    "data.info()"
   ]
  },
  {
   "cell_type": "code",
   "execution_count": 16,
   "id": "389b4a8f",
   "metadata": {
    "id": "389b4a8f",
    "outputId": "24b05649-7903-49b7-afd2-feb14ab02486"
   },
   "outputs": [
    {
     "name": "stdout",
     "output_type": "stream",
     "text": [
      "         상권_코드  category20  업종_분기당_매출_금액  상권_전체_분기당_매출_금액  매출_비율\n",
      "0      1001491  개인_소비용품_수리  5.705044e+08     7.669237e+11  0.001\n",
      "1      1001491          교육  1.142871e+09     7.669237e+11  0.001\n",
      "2      1001491   기타_개인_서비스  6.557306e+09     7.669237e+11  0.009\n",
      "3      1001491          보건  1.301284e+10     7.669237e+11  0.017\n",
      "4      1001491         부동산  4.680000e+08     7.669237e+11  0.001\n",
      "...        ...         ...           ...              ...    ...\n",
      "17442  2130326         식료품  9.838348e+09     3.120657e+10  0.315\n",
      "17443  2130326          음료  2.383652e+08     3.120657e+10  0.008\n",
      "17444  2130326         음식점  2.190159e+09     3.120657e+10  0.070\n",
      "17445  2130326       의류_미용  1.208625e+09     3.120657e+10  0.039\n",
      "17446  2130326         주점업  2.019440e+09     3.120657e+10  0.065\n",
      "\n",
      "[17447 rows x 5 columns]\n"
     ]
    }
   ],
   "source": [
    "import pandas as pd\n",
    "\n",
    "# 첫 번째 그룹화된 데이터를 데이터프레임으로 변환\n",
    "result1 = data.groupby(['상권_코드', 'category20'])['분기당_매출_금액'].sum().reset_index()\n",
    "result1.rename(columns={'분기당_매출_금액': '업종_분기당_매출_금액'}, inplace=True)\n",
    "\n",
    "# 두 번째 그룹화된 데이터를 데이터프레임으로 변환\n",
    "result2 = data.groupby('상권_코드')['분기당_매출_금액'].sum().reset_index()\n",
    "result2.rename(columns={'분기당_매출_금액': '상권_전체_분기당_매출_금액'}, inplace=True)\n",
    "\n",
    "# '상권_코드'를 기준으로 두 데이터프레임을 merge\n",
    "merged_df = pd.merge(result1, result2, on='상권_코드', how='inner')\n",
    "\n",
    "# 매출 비율 만들기\n",
    "merged_df['매출_비율'] = round(merged_df['업종_분기당_매출_금액'] / merged_df['상권_전체_분기당_매출_금액'], 3)\n",
    "\n",
    "# 결과를 출력\n",
    "print(merged_df)"
   ]
  },
  {
   "cell_type": "code",
   "execution_count": 17,
   "id": "faa1cc94",
   "metadata": {
    "id": "faa1cc94"
   },
   "outputs": [],
   "source": [
    "# merged_df 데이터프레임에서 '상권_코드', 'category20', '업종_분기당_매출_금액' 컬럼만 추출하여 data_amount 데이터프레임을 생성\n",
    "data_amount = merged_df[['상권_코드', 'category20', '업종_분기당_매출_금액']]\n",
    "\n",
    "# data_amount 데이터프레임에서 'category20' 컬럼 값이 top10 리스트에 포함되어 있는 행들로 필터링\n",
    "data_amount = data_amount[data_amount['category20'].isin(top10)]"
   ]
  },
  {
   "cell_type": "code",
   "execution_count": 18,
   "id": "757c63e9",
   "metadata": {
    "id": "757c63e9",
    "outputId": "17093df2-daef-4a15-da91-9c7e28d598d0"
   },
   "outputs": [
    {
     "name": "stdout",
     "output_type": "stream",
     "text": [
      "<class 'pandas.core.frame.DataFrame'>\n",
      "Index: 14126 entries, 1 to 17446\n",
      "Data columns (total 3 columns):\n",
      " #   Column        Non-Null Count  Dtype  \n",
      "---  ------        --------------  -----  \n",
      " 0   상권_코드         14126 non-null  int64  \n",
      " 1   category20    14126 non-null  object \n",
      " 2   업종_분기당_매출_금액  14126 non-null  float64\n",
      "dtypes: float64(1), int64(1), object(1)\n",
      "memory usage: 441.4+ KB\n"
     ]
    }
   ],
   "source": [
    "# data_amount 데이터 프레임의 정보 출력\n",
    "data_amount.info()"
   ]
  },
  {
   "cell_type": "code",
   "execution_count": 19,
   "id": "70f50109",
   "metadata": {
    "id": "70f50109",
    "outputId": "edc9b9dd-3c35-4644-ee8d-090328e9846d",
    "scrolled": true
   },
   "outputs": [
    {
     "name": "stdout",
     "output_type": "stream",
     "text": [
      "category20            교육     기타_개인_서비스            보건           소매업  \\\n",
      "상권_코드                                                                \n",
      "1001491     1.142871e+09  6.557306e+09  1.301284e+10  2.730247e+10   \n",
      "1001492     1.259131e+10  5.003410e+10  1.712418e+11  1.179963e+11   \n",
      "1001493     3.280166e+08  1.036428e+10  4.527424e+10  1.903520e+11   \n",
      "1001494     3.296943e+10  8.673814e+09  1.324915e+11  4.127133e+11   \n",
      "1001495     3.179254e+09  2.163496e+10  5.509154e+10  1.858813e+11   \n",
      "...                  ...           ...           ...           ...   \n",
      "2130322     7.465206e+08  4.129205e+08  5.163034e+09  1.457496e+09   \n",
      "2130323     1.715227e+09  7.920164e+08  9.749159e+09  2.557433e+09   \n",
      "2130324     9.375404e+08  1.010386e+09  4.398217e+09  1.125915e+09   \n",
      "2130325     6.842931e+08  2.406481e+08  1.245158e+09  1.203096e+09   \n",
      "2130326     3.508958e+07  1.037142e+08  1.510768e+10  2.726317e+07   \n",
      "\n",
      "category20  스포츠_및_오락관련_서비스업           식료품            음료           음식점  \\\n",
      "상권_코드                                                                   \n",
      "1001491        6.137251e+09  1.040615e+11  1.041891e+11  2.843361e+11   \n",
      "1001492        1.640896e+10  2.983294e+11  2.068703e+11  5.472711e+11   \n",
      "1001493        7.819961e+09  8.373024e+10  4.677325e+10  1.223356e+11   \n",
      "1001494        2.319816e+10  8.397284e+10  1.160220e+11  2.917007e+11   \n",
      "1001495        1.885548e+10  1.155365e+11  9.820046e+10  1.976445e+11   \n",
      "...                     ...           ...           ...           ...   \n",
      "2130322        6.225019e+08  2.371480e+10  6.139803e+08  2.325123e+09   \n",
      "2130323        3.939129e+08  4.378063e+10  2.867714e+09  1.057711e+10   \n",
      "2130324        4.428504e+07  1.058640e+10  1.139454e+08  4.298682e+09   \n",
      "2130325                 NaN  2.234558e+10  1.510444e+07  1.732013e+09   \n",
      "2130326        1.543018e+08  9.838348e+09  2.383652e+08  2.190159e+09   \n",
      "\n",
      "category20         의류_미용           주점업  \n",
      "상권_코드                                   \n",
      "1001491     1.710479e+11  4.272260e+10  \n",
      "1001492     1.288175e+12  1.396872e+11  \n",
      "1001493     1.109503e+12  2.811756e+10  \n",
      "1001494     2.776228e+11  4.992536e+10  \n",
      "1001495     1.962588e+11  6.906407e+10  \n",
      "...                  ...           ...  \n",
      "2130322     7.452928e+08  1.860283e+09  \n",
      "2130323     5.820745e+09  1.464198e+09  \n",
      "2130324     5.005681e+09  1.618277e+09  \n",
      "2130325     4.948796e+08  1.770901e+08  \n",
      "2130326     1.208625e+09  2.019440e+09  \n",
      "\n",
      "[1653 rows x 10 columns]\n"
     ]
    }
   ],
   "source": [
    "# long-wide 형식으로 변환\n",
    "# data_amount 데이터프레임을 기반으로 '상권_코드'를 인덱스로, 'category20'를 컬럼으로 하고,\n",
    "# '업종_분기당_매출_금액'을 값으로 갖는 pivot_df_amount 데이터프레임을 생성합니다.\n",
    "pivot_df_amount = data_amount.pivot(index=\"상권_코드\", columns=\"category20\", values=\"업종_분기당_매출_금액\")\n",
    "# pivot_df_amount 데이터프레임을 출력합니다.\n",
    "print(pivot_df_amount)"
   ]
  },
  {
   "cell_type": "code",
   "execution_count": 20,
   "id": "07f8ca5d",
   "metadata": {
    "id": "07f8ca5d",
    "outputId": "d4a0e163-f6aa-4429-95de-9caf5eb44e94"
   },
   "outputs": [
    {
     "data": {
      "text/plain": [
       "category20\n",
       "교육                 432\n",
       "기타_개인_서비스          218\n",
       "보건                 405\n",
       "소매업                150\n",
       "스포츠_및_오락관련_서비스업    429\n",
       "식료품                 77\n",
       "음료                 160\n",
       "음식점                 73\n",
       "의류_미용              229\n",
       "주점업                231\n",
       "dtype: int64"
      ]
     },
     "execution_count": 20,
     "metadata": {},
     "output_type": "execute_result"
    }
   ],
   "source": [
    "# pivot_df_amount 데이터프레임에서 각 컬럼별로 결측치(null 값)의 개수를 계산\n",
    "pivot_df_amount.isna().sum()"
   ]
  },
  {
   "cell_type": "code",
   "execution_count": 21,
   "id": "42929c4a",
   "metadata": {
    "id": "42929c4a"
   },
   "outputs": [],
   "source": [
    "# pivot_df_amount 데이터프레임의 결측치(null 값)를 0으로 채움\n",
    "pivot_df_amount = pivot_df_amount.fillna(0)"
   ]
  },
  {
   "cell_type": "code",
   "execution_count": 22,
   "id": "3dbb807d",
   "metadata": {
    "id": "3dbb807d",
    "outputId": "05ee13c8-8f28-464e-9275-42e83cf7d5ab"
   },
   "outputs": [
    {
     "name": "stdout",
     "output_type": "stream",
     "text": [
      "<class 'pandas.core.frame.DataFrame'>\n",
      "Index: 1653 entries, 1001491 to 2130326\n",
      "Data columns (total 10 columns):\n",
      " #   Column           Non-Null Count  Dtype  \n",
      "---  ------           --------------  -----  \n",
      " 0   교육               1653 non-null   float64\n",
      " 1   기타_개인_서비스        1653 non-null   float64\n",
      " 2   보건               1653 non-null   float64\n",
      " 3   소매업              1653 non-null   float64\n",
      " 4   스포츠_및_오락관련_서비스업  1653 non-null   float64\n",
      " 5   식료품              1653 non-null   float64\n",
      " 6   음료               1653 non-null   float64\n",
      " 7   음식점              1653 non-null   float64\n",
      " 8   의류_미용            1653 non-null   float64\n",
      " 9   주점업              1653 non-null   float64\n",
      "dtypes: float64(10)\n",
      "memory usage: 142.1 KB\n"
     ]
    }
   ],
   "source": [
    "# pivot_df_amount 데이터프레임의 정보 출력\n",
    "pivot_df_amount.info()"
   ]
  },
  {
   "cell_type": "code",
   "execution_count": 23,
   "id": "d20d674b",
   "metadata": {
    "id": "d20d674b"
   },
   "outputs": [],
   "source": [
    "# merged_df 데이터프레임에서 '상권_코드', 'category20', '매출_비율' 컬럼만 추출하여 data_prob 데이터프레임을 생성\n",
    "data_prob = merged_df[['상권_코드', 'category20', '매출_비율']]\n",
    "\n",
    "# data_prob 데이터프레임에서 'category20' 컬럼 값이 top10 리스트에 포함되어 있는 행들로 필터링\n",
    "data_prob = data_prob[data_prob['category20'].isin(top10)]"
   ]
  },
  {
   "cell_type": "code",
   "execution_count": 24,
   "id": "eb3a1de5",
   "metadata": {
    "id": "eb3a1de5",
    "outputId": "1cb85af3-6828-4681-aa77-6606fd240a91"
   },
   "outputs": [
    {
     "name": "stdout",
     "output_type": "stream",
     "text": [
      "category20     교육  기타_개인_서비스     보건    소매업  스포츠_및_오락관련_서비스업    식료품     음료  \\\n",
      "상권_코드                                                                       \n",
      "1001491     0.001      0.009  0.017  0.036            0.008  0.136  0.136   \n",
      "1001492     0.004      0.015  0.051  0.035            0.005  0.089  0.061   \n",
      "1001493     0.000      0.006  0.027  0.115            0.005  0.051  0.028   \n",
      "1001494     0.022      0.006  0.090  0.281            0.016  0.057  0.079   \n",
      "1001495     0.003      0.021  0.053  0.178            0.018  0.111  0.094   \n",
      "...           ...        ...    ...    ...              ...    ...    ...   \n",
      "2130322     0.020      0.011  0.137  0.039            0.017  0.630  0.016   \n",
      "2130323     0.022      0.010  0.122  0.032            0.005  0.549  0.036   \n",
      "2130324     0.032      0.035  0.151  0.039            0.002  0.363  0.004   \n",
      "2130325     0.024      0.009  0.044  0.043              NaN  0.793  0.001   \n",
      "2130326     0.001      0.003  0.484  0.001            0.005  0.315  0.008   \n",
      "\n",
      "category20    음식점  의류_미용    주점업  \n",
      "상권_코드                            \n",
      "1001491     0.371  0.223  0.056  \n",
      "1001492     0.162  0.382  0.041  \n",
      "1001493     0.074  0.669  0.017  \n",
      "1001494     0.199  0.189  0.034  \n",
      "1001495     0.189  0.188  0.066  \n",
      "...           ...    ...    ...  \n",
      "2130322     0.062  0.020  0.049  \n",
      "2130323     0.133  0.073  0.018  \n",
      "2130324     0.147  0.171  0.055  \n",
      "2130325     0.061  0.018  0.006  \n",
      "2130326     0.070  0.039  0.065  \n",
      "\n",
      "[1653 rows x 10 columns]\n"
     ]
    }
   ],
   "source": [
    "# long-wide 형식으로 변환\n",
    "pivot_df_prob = data_prob.pivot(index=\"상권_코드\", columns=\"category20\", values=\"매출_비율\")\n",
    "print(pivot_df_prob)"
   ]
  },
  {
   "cell_type": "code",
   "execution_count": 25,
   "id": "f5c35145",
   "metadata": {
    "id": "f5c35145"
   },
   "outputs": [],
   "source": [
    "# pivot_df_prob 데이터프레임의 결측치(null 값)를 0으로 채움\n",
    "pivot_df_prob = pivot_df_prob.fillna(0)"
   ]
  },
  {
   "cell_type": "code",
   "execution_count": 26,
   "id": "aa0090d4",
   "metadata": {
    "id": "aa0090d4",
    "outputId": "3c5a1f11-6f08-4c48-ec42-9ba0b57505d0"
   },
   "outputs": [
    {
     "name": "stdout",
     "output_type": "stream",
     "text": [
      "<class 'pandas.core.frame.DataFrame'>\n",
      "Index: 1653 entries, 1001491 to 2130326\n",
      "Data columns (total 10 columns):\n",
      " #   Column           Non-Null Count  Dtype  \n",
      "---  ------           --------------  -----  \n",
      " 0   교육               1653 non-null   float64\n",
      " 1   기타_개인_서비스        1653 non-null   float64\n",
      " 2   보건               1653 non-null   float64\n",
      " 3   소매업              1653 non-null   float64\n",
      " 4   스포츠_및_오락관련_서비스업  1653 non-null   float64\n",
      " 5   식료품              1653 non-null   float64\n",
      " 6   음료               1653 non-null   float64\n",
      " 7   음식점              1653 non-null   float64\n",
      " 8   의류_미용            1653 non-null   float64\n",
      " 9   주점업              1653 non-null   float64\n",
      "dtypes: float64(10)\n",
      "memory usage: 142.1 KB\n"
     ]
    }
   ],
   "source": [
    "# pivot_df_prob 데이터프레임의 정보 출력\n",
    "pivot_df_prob.info()"
   ]
  },
  {
   "cell_type": "code",
   "execution_count": 27,
   "id": "99e72c7f",
   "metadata": {
    "id": "99e72c7f",
    "outputId": "69063b4f-b99f-4718-8932-5534a0c4515d"
   },
   "outputs": [
    {
     "data": {
      "text/html": [
       "<div>\n",
       "<style scoped>\n",
       "    .dataframe tbody tr th:only-of-type {\n",
       "        vertical-align: middle;\n",
       "    }\n",
       "\n",
       "    .dataframe tbody tr th {\n",
       "        vertical-align: top;\n",
       "    }\n",
       "\n",
       "    .dataframe thead th {\n",
       "        text-align: right;\n",
       "    }\n",
       "</style>\n",
       "<table border=\"1\" class=\"dataframe\">\n",
       "  <thead>\n",
       "    <tr style=\"text-align: right;\">\n",
       "      <th>category20</th>\n",
       "      <th>교육_amount</th>\n",
       "      <th>기타_개인_서비스_amount</th>\n",
       "      <th>보건_amount</th>\n",
       "      <th>소매업_amount</th>\n",
       "      <th>스포츠_및_오락관련_서비스업_amount</th>\n",
       "      <th>식료품_amount</th>\n",
       "      <th>음료_amount</th>\n",
       "      <th>음식점_amount</th>\n",
       "      <th>의류_미용_amount</th>\n",
       "      <th>주점업_amount</th>\n",
       "      <th>교육_prob</th>\n",
       "      <th>기타_개인_서비스_prob</th>\n",
       "      <th>보건_prob</th>\n",
       "      <th>소매업_prob</th>\n",
       "      <th>스포츠_및_오락관련_서비스업_prob</th>\n",
       "      <th>식료품_prob</th>\n",
       "      <th>음료_prob</th>\n",
       "      <th>음식점_prob</th>\n",
       "      <th>의류_미용_prob</th>\n",
       "      <th>주점업_prob</th>\n",
       "    </tr>\n",
       "    <tr>\n",
       "      <th>상권_코드</th>\n",
       "      <th></th>\n",
       "      <th></th>\n",
       "      <th></th>\n",
       "      <th></th>\n",
       "      <th></th>\n",
       "      <th></th>\n",
       "      <th></th>\n",
       "      <th></th>\n",
       "      <th></th>\n",
       "      <th></th>\n",
       "      <th></th>\n",
       "      <th></th>\n",
       "      <th></th>\n",
       "      <th></th>\n",
       "      <th></th>\n",
       "      <th></th>\n",
       "      <th></th>\n",
       "      <th></th>\n",
       "      <th></th>\n",
       "      <th></th>\n",
       "    </tr>\n",
       "  </thead>\n",
       "  <tbody>\n",
       "    <tr>\n",
       "      <th>1001491</th>\n",
       "      <td>1.142871e+09</td>\n",
       "      <td>6.557306e+09</td>\n",
       "      <td>1.301284e+10</td>\n",
       "      <td>2.730247e+10</td>\n",
       "      <td>6.137251e+09</td>\n",
       "      <td>1.040615e+11</td>\n",
       "      <td>1.041891e+11</td>\n",
       "      <td>2.843361e+11</td>\n",
       "      <td>1.710479e+11</td>\n",
       "      <td>4.272260e+10</td>\n",
       "      <td>0.001</td>\n",
       "      <td>0.009</td>\n",
       "      <td>0.017</td>\n",
       "      <td>0.036</td>\n",
       "      <td>0.008</td>\n",
       "      <td>0.136</td>\n",
       "      <td>0.136</td>\n",
       "      <td>0.371</td>\n",
       "      <td>0.223</td>\n",
       "      <td>0.056</td>\n",
       "    </tr>\n",
       "    <tr>\n",
       "      <th>1001492</th>\n",
       "      <td>1.259131e+10</td>\n",
       "      <td>5.003410e+10</td>\n",
       "      <td>1.712418e+11</td>\n",
       "      <td>1.179963e+11</td>\n",
       "      <td>1.640896e+10</td>\n",
       "      <td>2.983294e+11</td>\n",
       "      <td>2.068703e+11</td>\n",
       "      <td>5.472711e+11</td>\n",
       "      <td>1.288175e+12</td>\n",
       "      <td>1.396872e+11</td>\n",
       "      <td>0.004</td>\n",
       "      <td>0.015</td>\n",
       "      <td>0.051</td>\n",
       "      <td>0.035</td>\n",
       "      <td>0.005</td>\n",
       "      <td>0.089</td>\n",
       "      <td>0.061</td>\n",
       "      <td>0.162</td>\n",
       "      <td>0.382</td>\n",
       "      <td>0.041</td>\n",
       "    </tr>\n",
       "    <tr>\n",
       "      <th>1001493</th>\n",
       "      <td>3.280166e+08</td>\n",
       "      <td>1.036428e+10</td>\n",
       "      <td>4.527424e+10</td>\n",
       "      <td>1.903520e+11</td>\n",
       "      <td>7.819961e+09</td>\n",
       "      <td>8.373024e+10</td>\n",
       "      <td>4.677325e+10</td>\n",
       "      <td>1.223356e+11</td>\n",
       "      <td>1.109503e+12</td>\n",
       "      <td>2.811756e+10</td>\n",
       "      <td>0.000</td>\n",
       "      <td>0.006</td>\n",
       "      <td>0.027</td>\n",
       "      <td>0.115</td>\n",
       "      <td>0.005</td>\n",
       "      <td>0.051</td>\n",
       "      <td>0.028</td>\n",
       "      <td>0.074</td>\n",
       "      <td>0.669</td>\n",
       "      <td>0.017</td>\n",
       "    </tr>\n",
       "    <tr>\n",
       "      <th>1001494</th>\n",
       "      <td>3.296943e+10</td>\n",
       "      <td>8.673814e+09</td>\n",
       "      <td>1.324915e+11</td>\n",
       "      <td>4.127133e+11</td>\n",
       "      <td>2.319816e+10</td>\n",
       "      <td>8.397284e+10</td>\n",
       "      <td>1.160220e+11</td>\n",
       "      <td>2.917007e+11</td>\n",
       "      <td>2.776228e+11</td>\n",
       "      <td>4.992536e+10</td>\n",
       "      <td>0.022</td>\n",
       "      <td>0.006</td>\n",
       "      <td>0.090</td>\n",
       "      <td>0.281</td>\n",
       "      <td>0.016</td>\n",
       "      <td>0.057</td>\n",
       "      <td>0.079</td>\n",
       "      <td>0.199</td>\n",
       "      <td>0.189</td>\n",
       "      <td>0.034</td>\n",
       "    </tr>\n",
       "    <tr>\n",
       "      <th>1001495</th>\n",
       "      <td>3.179254e+09</td>\n",
       "      <td>2.163496e+10</td>\n",
       "      <td>5.509154e+10</td>\n",
       "      <td>1.858813e+11</td>\n",
       "      <td>1.885548e+10</td>\n",
       "      <td>1.155365e+11</td>\n",
       "      <td>9.820046e+10</td>\n",
       "      <td>1.976445e+11</td>\n",
       "      <td>1.962588e+11</td>\n",
       "      <td>6.906407e+10</td>\n",
       "      <td>0.003</td>\n",
       "      <td>0.021</td>\n",
       "      <td>0.053</td>\n",
       "      <td>0.178</td>\n",
       "      <td>0.018</td>\n",
       "      <td>0.111</td>\n",
       "      <td>0.094</td>\n",
       "      <td>0.189</td>\n",
       "      <td>0.188</td>\n",
       "      <td>0.066</td>\n",
       "    </tr>\n",
       "    <tr>\n",
       "      <th>...</th>\n",
       "      <td>...</td>\n",
       "      <td>...</td>\n",
       "      <td>...</td>\n",
       "      <td>...</td>\n",
       "      <td>...</td>\n",
       "      <td>...</td>\n",
       "      <td>...</td>\n",
       "      <td>...</td>\n",
       "      <td>...</td>\n",
       "      <td>...</td>\n",
       "      <td>...</td>\n",
       "      <td>...</td>\n",
       "      <td>...</td>\n",
       "      <td>...</td>\n",
       "      <td>...</td>\n",
       "      <td>...</td>\n",
       "      <td>...</td>\n",
       "      <td>...</td>\n",
       "      <td>...</td>\n",
       "      <td>...</td>\n",
       "    </tr>\n",
       "    <tr>\n",
       "      <th>2130322</th>\n",
       "      <td>7.465206e+08</td>\n",
       "      <td>4.129205e+08</td>\n",
       "      <td>5.163034e+09</td>\n",
       "      <td>1.457496e+09</td>\n",
       "      <td>6.225019e+08</td>\n",
       "      <td>2.371480e+10</td>\n",
       "      <td>6.139803e+08</td>\n",
       "      <td>2.325123e+09</td>\n",
       "      <td>7.452928e+08</td>\n",
       "      <td>1.860283e+09</td>\n",
       "      <td>0.020</td>\n",
       "      <td>0.011</td>\n",
       "      <td>0.137</td>\n",
       "      <td>0.039</td>\n",
       "      <td>0.017</td>\n",
       "      <td>0.630</td>\n",
       "      <td>0.016</td>\n",
       "      <td>0.062</td>\n",
       "      <td>0.020</td>\n",
       "      <td>0.049</td>\n",
       "    </tr>\n",
       "    <tr>\n",
       "      <th>2130323</th>\n",
       "      <td>1.715227e+09</td>\n",
       "      <td>7.920164e+08</td>\n",
       "      <td>9.749159e+09</td>\n",
       "      <td>2.557433e+09</td>\n",
       "      <td>3.939129e+08</td>\n",
       "      <td>4.378063e+10</td>\n",
       "      <td>2.867714e+09</td>\n",
       "      <td>1.057711e+10</td>\n",
       "      <td>5.820745e+09</td>\n",
       "      <td>1.464198e+09</td>\n",
       "      <td>0.022</td>\n",
       "      <td>0.010</td>\n",
       "      <td>0.122</td>\n",
       "      <td>0.032</td>\n",
       "      <td>0.005</td>\n",
       "      <td>0.549</td>\n",
       "      <td>0.036</td>\n",
       "      <td>0.133</td>\n",
       "      <td>0.073</td>\n",
       "      <td>0.018</td>\n",
       "    </tr>\n",
       "    <tr>\n",
       "      <th>2130324</th>\n",
       "      <td>9.375404e+08</td>\n",
       "      <td>1.010386e+09</td>\n",
       "      <td>4.398217e+09</td>\n",
       "      <td>1.125915e+09</td>\n",
       "      <td>4.428504e+07</td>\n",
       "      <td>1.058640e+10</td>\n",
       "      <td>1.139454e+08</td>\n",
       "      <td>4.298682e+09</td>\n",
       "      <td>5.005681e+09</td>\n",
       "      <td>1.618277e+09</td>\n",
       "      <td>0.032</td>\n",
       "      <td>0.035</td>\n",
       "      <td>0.151</td>\n",
       "      <td>0.039</td>\n",
       "      <td>0.002</td>\n",
       "      <td>0.363</td>\n",
       "      <td>0.004</td>\n",
       "      <td>0.147</td>\n",
       "      <td>0.171</td>\n",
       "      <td>0.055</td>\n",
       "    </tr>\n",
       "    <tr>\n",
       "      <th>2130325</th>\n",
       "      <td>6.842931e+08</td>\n",
       "      <td>2.406481e+08</td>\n",
       "      <td>1.245158e+09</td>\n",
       "      <td>1.203096e+09</td>\n",
       "      <td>0.000000e+00</td>\n",
       "      <td>2.234558e+10</td>\n",
       "      <td>1.510444e+07</td>\n",
       "      <td>1.732013e+09</td>\n",
       "      <td>4.948796e+08</td>\n",
       "      <td>1.770901e+08</td>\n",
       "      <td>0.024</td>\n",
       "      <td>0.009</td>\n",
       "      <td>0.044</td>\n",
       "      <td>0.043</td>\n",
       "      <td>0.000</td>\n",
       "      <td>0.793</td>\n",
       "      <td>0.001</td>\n",
       "      <td>0.061</td>\n",
       "      <td>0.018</td>\n",
       "      <td>0.006</td>\n",
       "    </tr>\n",
       "    <tr>\n",
       "      <th>2130326</th>\n",
       "      <td>3.508958e+07</td>\n",
       "      <td>1.037142e+08</td>\n",
       "      <td>1.510768e+10</td>\n",
       "      <td>2.726317e+07</td>\n",
       "      <td>1.543018e+08</td>\n",
       "      <td>9.838348e+09</td>\n",
       "      <td>2.383652e+08</td>\n",
       "      <td>2.190159e+09</td>\n",
       "      <td>1.208625e+09</td>\n",
       "      <td>2.019440e+09</td>\n",
       "      <td>0.001</td>\n",
       "      <td>0.003</td>\n",
       "      <td>0.484</td>\n",
       "      <td>0.001</td>\n",
       "      <td>0.005</td>\n",
       "      <td>0.315</td>\n",
       "      <td>0.008</td>\n",
       "      <td>0.070</td>\n",
       "      <td>0.039</td>\n",
       "      <td>0.065</td>\n",
       "    </tr>\n",
       "  </tbody>\n",
       "</table>\n",
       "<p>1653 rows × 20 columns</p>\n",
       "</div>"
      ],
      "text/plain": [
       "category20     교육_amount  기타_개인_서비스_amount     보건_amount    소매업_amount  \\\n",
       "상권_코드                                                                    \n",
       "1001491     1.142871e+09      6.557306e+09  1.301284e+10  2.730247e+10   \n",
       "1001492     1.259131e+10      5.003410e+10  1.712418e+11  1.179963e+11   \n",
       "1001493     3.280166e+08      1.036428e+10  4.527424e+10  1.903520e+11   \n",
       "1001494     3.296943e+10      8.673814e+09  1.324915e+11  4.127133e+11   \n",
       "1001495     3.179254e+09      2.163496e+10  5.509154e+10  1.858813e+11   \n",
       "...                  ...               ...           ...           ...   \n",
       "2130322     7.465206e+08      4.129205e+08  5.163034e+09  1.457496e+09   \n",
       "2130323     1.715227e+09      7.920164e+08  9.749159e+09  2.557433e+09   \n",
       "2130324     9.375404e+08      1.010386e+09  4.398217e+09  1.125915e+09   \n",
       "2130325     6.842931e+08      2.406481e+08  1.245158e+09  1.203096e+09   \n",
       "2130326     3.508958e+07      1.037142e+08  1.510768e+10  2.726317e+07   \n",
       "\n",
       "category20  스포츠_및_오락관련_서비스업_amount    식료품_amount     음료_amount    음식점_amount  \\\n",
       "상권_코드                                                                          \n",
       "1001491               6.137251e+09  1.040615e+11  1.041891e+11  2.843361e+11   \n",
       "1001492               1.640896e+10  2.983294e+11  2.068703e+11  5.472711e+11   \n",
       "1001493               7.819961e+09  8.373024e+10  4.677325e+10  1.223356e+11   \n",
       "1001494               2.319816e+10  8.397284e+10  1.160220e+11  2.917007e+11   \n",
       "1001495               1.885548e+10  1.155365e+11  9.820046e+10  1.976445e+11   \n",
       "...                            ...           ...           ...           ...   \n",
       "2130322               6.225019e+08  2.371480e+10  6.139803e+08  2.325123e+09   \n",
       "2130323               3.939129e+08  4.378063e+10  2.867714e+09  1.057711e+10   \n",
       "2130324               4.428504e+07  1.058640e+10  1.139454e+08  4.298682e+09   \n",
       "2130325               0.000000e+00  2.234558e+10  1.510444e+07  1.732013e+09   \n",
       "2130326               1.543018e+08  9.838348e+09  2.383652e+08  2.190159e+09   \n",
       "\n",
       "category20  의류_미용_amount    주점업_amount  교육_prob  기타_개인_서비스_prob  보건_prob  \\\n",
       "상권_코드                                                                      \n",
       "1001491     1.710479e+11  4.272260e+10    0.001           0.009    0.017   \n",
       "1001492     1.288175e+12  1.396872e+11    0.004           0.015    0.051   \n",
       "1001493     1.109503e+12  2.811756e+10    0.000           0.006    0.027   \n",
       "1001494     2.776228e+11  4.992536e+10    0.022           0.006    0.090   \n",
       "1001495     1.962588e+11  6.906407e+10    0.003           0.021    0.053   \n",
       "...                  ...           ...      ...             ...      ...   \n",
       "2130322     7.452928e+08  1.860283e+09    0.020           0.011    0.137   \n",
       "2130323     5.820745e+09  1.464198e+09    0.022           0.010    0.122   \n",
       "2130324     5.005681e+09  1.618277e+09    0.032           0.035    0.151   \n",
       "2130325     4.948796e+08  1.770901e+08    0.024           0.009    0.044   \n",
       "2130326     1.208625e+09  2.019440e+09    0.001           0.003    0.484   \n",
       "\n",
       "category20  소매업_prob  스포츠_및_오락관련_서비스업_prob  식료품_prob  음료_prob  음식점_prob  \\\n",
       "상권_코드                                                                     \n",
       "1001491        0.036                 0.008     0.136    0.136     0.371   \n",
       "1001492        0.035                 0.005     0.089    0.061     0.162   \n",
       "1001493        0.115                 0.005     0.051    0.028     0.074   \n",
       "1001494        0.281                 0.016     0.057    0.079     0.199   \n",
       "1001495        0.178                 0.018     0.111    0.094     0.189   \n",
       "...              ...                   ...       ...      ...       ...   \n",
       "2130322        0.039                 0.017     0.630    0.016     0.062   \n",
       "2130323        0.032                 0.005     0.549    0.036     0.133   \n",
       "2130324        0.039                 0.002     0.363    0.004     0.147   \n",
       "2130325        0.043                 0.000     0.793    0.001     0.061   \n",
       "2130326        0.001                 0.005     0.315    0.008     0.070   \n",
       "\n",
       "category20  의류_미용_prob  주점업_prob  \n",
       "상권_코드                             \n",
       "1001491          0.223     0.056  \n",
       "1001492          0.382     0.041  \n",
       "1001493          0.669     0.017  \n",
       "1001494          0.189     0.034  \n",
       "1001495          0.188     0.066  \n",
       "...                ...       ...  \n",
       "2130322          0.020     0.049  \n",
       "2130323          0.073     0.018  \n",
       "2130324          0.171     0.055  \n",
       "2130325          0.018     0.006  \n",
       "2130326          0.039     0.065  \n",
       "\n",
       "[1653 rows x 20 columns]"
      ]
     },
     "execution_count": 27,
     "metadata": {},
     "output_type": "execute_result"
    }
   ],
   "source": [
    "merged_pivot = pd.merge(pivot_df_amount, pivot_df_prob, on='상권_코드', how='inner',suffixes=('_amount', '_prob'))\n",
    "merged_pivot"
   ]
  },
  {
   "cell_type": "code",
   "execution_count": 28,
   "id": "6113f126",
   "metadata": {
    "id": "6113f126"
   },
   "outputs": [],
   "source": [
    "merged_pivot.to_csv('category10_amount_prob.csv')"
   ]
  }
 ],
 "metadata": {
  "colab": {
   "provenance": []
  },
  "kernelspec": {
   "display_name": "Python 3 (ipykernel)",
   "language": "python",
   "name": "python3"
  },
  "language_info": {
   "codemirror_mode": {
    "name": "ipython",
    "version": 3
   },
   "file_extension": ".py",
   "mimetype": "text/x-python",
   "name": "python",
   "nbconvert_exporter": "python",
   "pygments_lexer": "ipython3",
   "version": "3.11.4"
  }
 },
 "nbformat": 4,
 "nbformat_minor": 5
}
