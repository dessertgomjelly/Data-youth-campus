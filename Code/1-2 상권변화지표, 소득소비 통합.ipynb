{
 "cells": [
  {
   "cell_type": "markdown",
   "id": "8e702e66",
   "metadata": {
    "id": "8e702e66"
   },
   "source": [
    "# 상권변화지표"
   ]
  },
  {
   "cell_type": "code",
   "execution_count": 1,
   "id": "da14809a",
   "metadata": {
    "id": "da14809a"
   },
   "outputs": [],
   "source": [
    "import pandas as pd\n",
    "change17 = pd.read_csv('서울시 상권분석서비스(상권-상권변화지표) 2017.csv', encoding='UTF-8')\n",
    "change18 = pd.read_csv('서울시 상권분석서비스(상권-상권변화지표) 2018.csv', encoding='UTF-8')\n",
    "change19 = pd.read_csv('서울시 상권분석서비스(상권-상권변화지표) 2019.csv', encoding='UTF-8')\n",
    "change20 = pd.read_csv('서울시 상권분석서비스(상권-상권변화지표) 2020.csv', encoding='UTF-8')\n",
    "change21 = pd.read_csv('서울시 상권분석서비스(상권-상권변화지표) 2021.csv', encoding='UTF-8')\n",
    "change22 = pd.read_csv('서울시 상권분석서비스(상권-상권변화지표) 2022.csv', encoding='UTF-8')\n",
    "income_spend = pd.read_csv('서울시 상권분석서비스(상권-소득소비).csv', encoding='UTF-8')"
   ]
  },
  {
   "cell_type": "code",
   "execution_count": 2,
   "id": "7090ef0d",
   "metadata": {
    "id": "7090ef0d",
    "outputId": "b64726ef-dce0-45f5-ad97-22e105037fd5"
   },
   "outputs": [
    {
     "data": {
      "text/plain": [
       "array([ True,  True,  True,  True,  True,  True,  True,  True,  True,\n",
       "        True,  True,  True])"
      ]
     },
     "execution_count": 2,
     "metadata": {},
     "output_type": "execute_result"
    }
   ],
   "source": [
    "# change 데이터프레임의 컬럼명 비교\n",
    "change17.columns == change18.columns\n",
    "change17.columns == change19.columns\n",
    "change17.columns == change20.columns\n",
    "change17.columns == change21.columns\n",
    "change17.columns == change22.columns"
   ]
  },
  {
   "cell_type": "code",
   "execution_count": 3,
   "id": "c223d8bf",
   "metadata": {
    "id": "c223d8bf",
    "outputId": "145d53e5-2c5a-4911-db02-17a00c4326da"
   },
   "outputs": [
    {
     "data": {
      "text/plain": [
       "Index(['기준_년_코드', '기준_분기_코드', '상권_구분_코드', '상권_구분_코드_명', '상권_코드', '상권_코드_명',\n",
       "       '상권_변화_지표', '상권_변화_지표_명', '운영_영업_개월_평균', '폐업_영업_개월_평균',\n",
       "       '서울_운영_영업_개월_평균', '서울_폐업_영업_개월_평균'],\n",
       "      dtype='object')"
      ]
     },
     "execution_count": 3,
     "metadata": {},
     "output_type": "execute_result"
    }
   ],
   "source": [
    "change17.columns"
   ]
  },
  {
   "cell_type": "code",
   "execution_count": 4,
   "id": "db2a8a20",
   "metadata": {
    "id": "db2a8a20"
   },
   "outputs": [],
   "source": [
    "# 상권 index 통합 기준\n",
    "base_columns = ['기준_년_코드', '기준_분기_코드', '상권_구분_코드', '상권_구분_코드_명', '상권_코드', '상권_코드_명']"
   ]
  },
  {
   "cell_type": "code",
   "execution_count": 5,
   "id": "a76caee8",
   "metadata": {
    "id": "a76caee8",
    "outputId": "71b9aaa2-efb1-40c5-a10e-62252914a5ef"
   },
   "outputs": [
    {
     "data": {
      "text/html": [
       "<div>\n",
       "<style scoped>\n",
       "    .dataframe tbody tr th:only-of-type {\n",
       "        vertical-align: middle;\n",
       "    }\n",
       "\n",
       "    .dataframe tbody tr th {\n",
       "        vertical-align: top;\n",
       "    }\n",
       "\n",
       "    .dataframe thead th {\n",
       "        text-align: right;\n",
       "    }\n",
       "</style>\n",
       "<table border=\"1\" class=\"dataframe\">\n",
       "  <thead>\n",
       "    <tr style=\"text-align: right;\">\n",
       "      <th></th>\n",
       "      <th>기준_년_코드</th>\n",
       "      <th>기준_분기_코드</th>\n",
       "      <th>상권_구분_코드</th>\n",
       "      <th>상권_구분_코드_명</th>\n",
       "      <th>상권_코드</th>\n",
       "      <th>상권_코드_명</th>\n",
       "      <th>상권_변화_지표</th>\n",
       "      <th>상권_변화_지표_명</th>\n",
       "      <th>운영_영업_개월_평균</th>\n",
       "      <th>폐업_영업_개월_평균</th>\n",
       "      <th>서울_운영_영업_개월_평균</th>\n",
       "      <th>서울_폐업_영업_개월_평균</th>\n",
       "    </tr>\n",
       "  </thead>\n",
       "  <tbody>\n",
       "    <tr>\n",
       "      <th>0</th>\n",
       "      <td>2017</td>\n",
       "      <td>4</td>\n",
       "      <td>A</td>\n",
       "      <td>골목상권</td>\n",
       "      <td>2110665</td>\n",
       "      <td>곰달래도서관</td>\n",
       "      <td>HL</td>\n",
       "      <td>상권축소</td>\n",
       "      <td>103</td>\n",
       "      <td>47</td>\n",
       "      <td>100</td>\n",
       "      <td>52</td>\n",
       "    </tr>\n",
       "    <tr>\n",
       "      <th>1</th>\n",
       "      <td>2017</td>\n",
       "      <td>4</td>\n",
       "      <td>U</td>\n",
       "      <td>관광특구</td>\n",
       "      <td>1001496</td>\n",
       "      <td>강남 마이스 관광특구</td>\n",
       "      <td>LH</td>\n",
       "      <td>상권확장</td>\n",
       "      <td>95</td>\n",
       "      <td>60</td>\n",
       "      <td>100</td>\n",
       "      <td>52</td>\n",
       "    </tr>\n",
       "    <tr>\n",
       "      <th>2</th>\n",
       "      <td>2017</td>\n",
       "      <td>4</td>\n",
       "      <td>U</td>\n",
       "      <td>관광특구</td>\n",
       "      <td>1001491</td>\n",
       "      <td>이태원 관광특구</td>\n",
       "      <td>HH</td>\n",
       "      <td>정체</td>\n",
       "      <td>108</td>\n",
       "      <td>58</td>\n",
       "      <td>100</td>\n",
       "      <td>52</td>\n",
       "    </tr>\n",
       "    <tr>\n",
       "      <th>3</th>\n",
       "      <td>2017</td>\n",
       "      <td>4</td>\n",
       "      <td>R</td>\n",
       "      <td>전통시장</td>\n",
       "      <td>2130269</td>\n",
       "      <td>강남시장(동작구 강남시장)</td>\n",
       "      <td>LH</td>\n",
       "      <td>상권확장</td>\n",
       "      <td>95</td>\n",
       "      <td>62</td>\n",
       "      <td>100</td>\n",
       "      <td>52</td>\n",
       "    </tr>\n",
       "    <tr>\n",
       "      <th>4</th>\n",
       "      <td>2017</td>\n",
       "      <td>4</td>\n",
       "      <td>R</td>\n",
       "      <td>전통시장</td>\n",
       "      <td>2130256</td>\n",
       "      <td>신동시장</td>\n",
       "      <td>HH</td>\n",
       "      <td>정체</td>\n",
       "      <td>104</td>\n",
       "      <td>69</td>\n",
       "      <td>100</td>\n",
       "      <td>52</td>\n",
       "    </tr>\n",
       "    <tr>\n",
       "      <th>...</th>\n",
       "      <td>...</td>\n",
       "      <td>...</td>\n",
       "      <td>...</td>\n",
       "      <td>...</td>\n",
       "      <td>...</td>\n",
       "      <td>...</td>\n",
       "      <td>...</td>\n",
       "      <td>...</td>\n",
       "      <td>...</td>\n",
       "      <td>...</td>\n",
       "      <td>...</td>\n",
       "      <td>...</td>\n",
       "    </tr>\n",
       "    <tr>\n",
       "      <th>40015</th>\n",
       "      <td>2022</td>\n",
       "      <td>1</td>\n",
       "      <td>A</td>\n",
       "      <td>골목상권</td>\n",
       "      <td>2110541</td>\n",
       "      <td>동교초등학교</td>\n",
       "      <td>LL</td>\n",
       "      <td>다이나믹</td>\n",
       "      <td>99</td>\n",
       "      <td>50</td>\n",
       "      <td>119</td>\n",
       "      <td>55</td>\n",
       "    </tr>\n",
       "    <tr>\n",
       "      <th>40016</th>\n",
       "      <td>2022</td>\n",
       "      <td>1</td>\n",
       "      <td>A</td>\n",
       "      <td>골목상권</td>\n",
       "      <td>2111063</td>\n",
       "      <td>강동구립 천호도서관</td>\n",
       "      <td>HL</td>\n",
       "      <td>상권축소</td>\n",
       "      <td>120</td>\n",
       "      <td>51</td>\n",
       "      <td>119</td>\n",
       "      <td>55</td>\n",
       "    </tr>\n",
       "    <tr>\n",
       "      <th>40017</th>\n",
       "      <td>2022</td>\n",
       "      <td>1</td>\n",
       "      <td>A</td>\n",
       "      <td>골목상권</td>\n",
       "      <td>2110665</td>\n",
       "      <td>곰달래도서관</td>\n",
       "      <td>HL</td>\n",
       "      <td>상권축소</td>\n",
       "      <td>123</td>\n",
       "      <td>51</td>\n",
       "      <td>119</td>\n",
       "      <td>55</td>\n",
       "    </tr>\n",
       "    <tr>\n",
       "      <th>40018</th>\n",
       "      <td>2022</td>\n",
       "      <td>1</td>\n",
       "      <td>A</td>\n",
       "      <td>골목상권</td>\n",
       "      <td>2110246</td>\n",
       "      <td>월드순복음교회</td>\n",
       "      <td>HL</td>\n",
       "      <td>상권축소</td>\n",
       "      <td>124</td>\n",
       "      <td>52</td>\n",
       "      <td>119</td>\n",
       "      <td>55</td>\n",
       "    </tr>\n",
       "    <tr>\n",
       "      <th>40019</th>\n",
       "      <td>2022</td>\n",
       "      <td>1</td>\n",
       "      <td>A</td>\n",
       "      <td>골목상권</td>\n",
       "      <td>2110773</td>\n",
       "      <td>당산역 13번</td>\n",
       "      <td>HH</td>\n",
       "      <td>정체</td>\n",
       "      <td>123</td>\n",
       "      <td>62</td>\n",
       "      <td>119</td>\n",
       "      <td>55</td>\n",
       "    </tr>\n",
       "  </tbody>\n",
       "</table>\n",
       "<p>40020 rows × 12 columns</p>\n",
       "</div>"
      ],
      "text/plain": [
       "       기준_년_코드  기준_분기_코드 상권_구분_코드 상권_구분_코드_명    상권_코드         상권_코드_명  \\\n",
       "0         2017         4        A       골목상권  2110665          곰달래도서관   \n",
       "1         2017         4        U       관광특구  1001496     강남 마이스 관광특구   \n",
       "2         2017         4        U       관광특구  1001491        이태원 관광특구   \n",
       "3         2017         4        R       전통시장  2130269  강남시장(동작구 강남시장)   \n",
       "4         2017         4        R       전통시장  2130256            신동시장   \n",
       "...        ...       ...      ...        ...      ...             ...   \n",
       "40015     2022         1        A       골목상권  2110541          동교초등학교   \n",
       "40016     2022         1        A       골목상권  2111063      강동구립 천호도서관   \n",
       "40017     2022         1        A       골목상권  2110665          곰달래도서관   \n",
       "40018     2022         1        A       골목상권  2110246         월드순복음교회   \n",
       "40019     2022         1        A       골목상권  2110773         당산역 13번   \n",
       "\n",
       "      상권_변화_지표 상권_변화_지표_명  운영_영업_개월_평균  폐업_영업_개월_평균  서울_운영_영업_개월_평균  \\\n",
       "0           HL       상권축소          103           47             100   \n",
       "1           LH       상권확장           95           60             100   \n",
       "2           HH         정체          108           58             100   \n",
       "3           LH       상권확장           95           62             100   \n",
       "4           HH         정체          104           69             100   \n",
       "...        ...        ...          ...          ...             ...   \n",
       "40015       LL       다이나믹           99           50             119   \n",
       "40016       HL       상권축소          120           51             119   \n",
       "40017       HL       상권축소          123           51             119   \n",
       "40018       HL       상권축소          124           52             119   \n",
       "40019       HH         정체          123           62             119   \n",
       "\n",
       "       서울_폐업_영업_개월_평균  \n",
       "0                  52  \n",
       "1                  52  \n",
       "2                  52  \n",
       "3                  52  \n",
       "4                  52  \n",
       "...               ...  \n",
       "40015              55  \n",
       "40016              55  \n",
       "40017              55  \n",
       "40018              55  \n",
       "40019              55  \n",
       "\n",
       "[40020 rows x 12 columns]"
      ]
     },
     "execution_count": 5,
     "metadata": {},
     "output_type": "execute_result"
    }
   ],
   "source": [
    "# change17, change18, change19, change20, change21, change22 데이터프레임을 행 방향으로 합침\n",
    "combined_df = pd.concat([change17,change18,change19,change20,change21,change22,], ignore_index=True)\n",
    "combined_df"
   ]
  },
  {
   "cell_type": "code",
   "execution_count": 6,
   "id": "6d256fbb",
   "metadata": {
    "id": "6d256fbb",
    "outputId": "5e885173-419c-4558-b072-567a928ab1db"
   },
   "outputs": [
    {
     "data": {
      "text/plain": [
       "40020"
      ]
     },
     "execution_count": 6,
     "metadata": {},
     "output_type": "execute_result"
    }
   ],
   "source": [
    "# change17, change18, change19, change20, change21, change22 데이터프레임의 각 행(row) 수를 더하여 모든 데이터프레임의 행 수의 총합 계산\n",
    "change17.shape[0] + change18.shape[0] +change19.shape[0] +change20.shape[0] +change21.shape[0] +change22.shape[0]"
   ]
  },
  {
   "cell_type": "code",
   "execution_count": 7,
   "id": "d1942363",
   "metadata": {
    "id": "d1942363"
   },
   "outputs": [],
   "source": [
    "# income_spend 데이터프레임과 combined_df 데이터프레임을 base_columns을 기준으로 내부 조인하여 money 데이터프레임을 생성\n",
    "money = pd.merge(income_spend, combined_df, on= base_columns, how='inner')"
   ]
  },
  {
   "cell_type": "code",
   "execution_count": 8,
   "id": "355668b6",
   "metadata": {
    "id": "355668b6",
    "outputId": "66b77567-f2d9-410f-d1e0-333b6612128c"
   },
   "outputs": [
    {
     "name": "stdout",
     "output_type": "stream",
     "text": [
      "<class 'pandas.core.frame.DataFrame'>\n",
      "RangeIndex: 39082 entries, 0 to 39081\n",
      "Data columns (total 24 columns):\n",
      " #   Column          Non-Null Count  Dtype  \n",
      "---  ------          --------------  -----  \n",
      " 0   기준_년_코드         39082 non-null  int64  \n",
      " 1   기준_분기_코드        39082 non-null  int64  \n",
      " 2   상권_구분_코드        39082 non-null  object \n",
      " 3   상권_구분_코드_명      39082 non-null  object \n",
      " 4   상권_코드           39082 non-null  int64  \n",
      " 5   상권_코드_명         39082 non-null  object \n",
      " 6   월_평균_소득_금액      38868 non-null  float64\n",
      " 7   소득_구간_코드        38868 non-null  float64\n",
      " 8   지출_총금액          38283 non-null  float64\n",
      " 9   식료품_지출_총금액      38283 non-null  float64\n",
      " 10  의류_신발_지출_총금액    38283 non-null  float64\n",
      " 11  생활용품_지출_총금액     38283 non-null  float64\n",
      " 12  의료비_지출_총금액      38283 non-null  float64\n",
      " 13  교통_지출_총금액       38283 non-null  float64\n",
      " 14  여가_지출_총금액       38283 non-null  float64\n",
      " 15  문화_지출_총금액       38283 non-null  float64\n",
      " 16  교육_지출_총금액       38283 non-null  float64\n",
      " 17  유흥_지출_총금액       38283 non-null  float64\n",
      " 18  상권_변화_지표        39082 non-null  object \n",
      " 19  상권_변화_지표_명      39082 non-null  object \n",
      " 20  운영_영업_개월_평균     39082 non-null  int64  \n",
      " 21  폐업_영업_개월_평균     39082 non-null  int64  \n",
      " 22  서울_운영_영업_개월_평균  39082 non-null  int64  \n",
      " 23  서울_폐업_영업_개월_평균  39082 non-null  int64  \n",
      "dtypes: float64(12), int64(7), object(5)\n",
      "memory usage: 7.2+ MB\n"
     ]
    }
   ],
   "source": [
    "# money 데이터프레임의 정보를 출력\n",
    "money.info()"
   ]
  },
  {
   "cell_type": "markdown",
   "id": "dbbed47a",
   "metadata": {
    "id": "dbbed47a"
   },
   "source": [
    "# null 값 존재\n",
    "- 6   월_평균_소득_금액      38868 non-null  float64\n",
    "- 7   소득_구간_코드        38868 non-null  float64\n",
    "- 8   지출_총금액          38283 non-null  float64\n",
    "- 9   식료품_지출_총금액      38283 non-null  float64\n",
    "- 10  의류_신발_지출_총금액    38283 non-null  float64\n",
    "- 11  생활용품_지출_총금액     38283 non-null  float64\n",
    "- 12  의료비_지출_총금액      38283 non-null  float64\n",
    "- 13  교통_지출_총금액       38283 non-null  float64\n",
    "- 14  여가_지출_총금액       38283 non-null  float64\n",
    "- 15  문화_지출_총금액       38283 non-null  float64\n",
    "- 16  교육_지출_총금액       38283 non-null  float64\n",
    "- 17  유흥_지출_총금액       38283 non-null  float64"
   ]
  },
  {
   "cell_type": "code",
   "execution_count": 9,
   "id": "c48401c1",
   "metadata": {
    "id": "c48401c1"
   },
   "outputs": [],
   "source": [
    "# money 데이터프레임에서 '상권_변화_지표'와 '상권_변화_지표_명' 컬럼을 삭제\n",
    "money.drop(columns=['상권_변화_지표', '상권_변화_지표_명'], inplace=True)"
   ]
  },
  {
   "cell_type": "code",
   "execution_count": 10,
   "id": "ceabe5b7",
   "metadata": {
    "id": "ceabe5b7"
   },
   "outputs": [],
   "source": [
    "# money 데이터프레임을 csv파일로 변환\n",
    "money.to_csv('money.csv',index=False)"
   ]
  }
 ],
 "metadata": {
  "colab": {
   "provenance": []
  },
  "kernelspec": {
   "display_name": "Python 3 (ipykernel)",
   "language": "python",
   "name": "python3"
  },
  "language_info": {
   "codemirror_mode": {
    "name": "ipython",
    "version": 3
   },
   "file_extension": ".py",
   "mimetype": "text/x-python",
   "name": "python",
   "nbconvert_exporter": "python",
   "pygments_lexer": "ipython3",
   "version": "3.11.4"
  }
 },
 "nbformat": 4,
 "nbformat_minor": 5
}
